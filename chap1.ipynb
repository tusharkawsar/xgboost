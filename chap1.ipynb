{
 "cells": [
  {
   "cell_type": "markdown",
   "metadata": {},
   "source": [
    "# Supervised learning\n",
    "\n",
    "Some understanding of the past behavior of the problem\n",
    "\n",
    "Binary classification: AUC - Area Under the ROC Curve (larger area under curve -> better/more sensitive model)\n",
    "\n",
    "Multiclass classification: Confusion matrix\n",
    "\n",
    "Features - Numeric/categorical, scaled if numeric, encoded if categorical\n",
    "\n",
    "Ranking and recommendation - also supervised\n",
    "\n",
    "XGBoost - the hottest library in supervised learning; speed through parallalilaztion, out-performs all other single-algorithm ML methods  "
   ]
  },
  {
   "cell_type": "code",
   "execution_count": 6,
   "metadata": {},
   "outputs": [],
   "source": [
    "import xgboost as xgb\n",
    "import numpy as np\n",
    "import pandas as pd\n",
    "from sklearn.model_selection import train_test_split"
   ]
  },
  {
   "cell_type": "markdown",
   "metadata": {},
   "source": [
    "# Decision Tree\n",
    "\n",
    "Base learner - Individual learning algorithm in an ensemble algorithm\n",
    "\n",
    "Individual DT - low-bias, high-variance\n",
    "\n",
    "XGBoost uses CART (Classification and Regression Tree) - a score in each leaf\n",
    "\n"
   ]
  }
 ],
 "metadata": {
  "kernelspec": {
   "display_name": "Python 3",
   "language": "python",
   "name": "python3"
  },
  "language_info": {
   "codemirror_mode": {
    "name": "ipython",
    "version": 3
   },
   "file_extension": ".py",
   "mimetype": "text/x-python",
   "name": "python",
   "nbconvert_exporter": "python",
   "pygments_lexer": "ipython3",
   "version": "3.7.5"
  }
 },
 "nbformat": 4,
 "nbformat_minor": 2
}
